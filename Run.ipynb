{
 "cells": [
  {
   "cell_type": "code",
   "execution_count": 18,
   "id": "400bb3fa",
   "metadata": {},
   "outputs": [],
   "source": [
    "from gremlin_python import statics\n",
    "from gremlin_python.driver import client\n",
    "from gremlin_python.structure.graph import Graph\n",
    "from gremlin_python.process.graph_traversal import __\n",
    "from gremlin_python.process.strategies import *\n",
    "from gremlin_python.driver.driver_remote_connection import DriverRemoteConnection\n",
    "from gremlin_python.driver.aiohttp.transport import AiohttpTransport\n",
    "from gremlin_python.process.traversal import *\n",
    "import os\n",
    "import glob\n",
    "import requests as r\n",
    "import time"
   ]
  },
  {
   "cell_type": "code",
   "execution_count": 32,
   "id": "0567b17d",
   "metadata": {},
   "outputs": [],
   "source": [
    "port = 8182\n",
    "server = 'neptune-cluster-demo.cluster-cljuf86ibdoz.us-east-1.neptune.amazonaws.com'\n",
    "global g\n",
    "global c "
   ]
  },
  {
   "cell_type": "code",
   "execution_count": 39,
   "id": "2ddd92ad",
   "metadata": {},
   "outputs": [],
   "source": [
    "def est_connection():\n",
    "    global g\n",
    "    global c\n",
    "    endpoint = f'wss://{server}:{port}/gremlin'\n",
    "    graph=Graph()\n",
    "    connection = DriverRemoteConnection(endpoint,'g',\n",
    "             transport_factory=lambda:AiohttpTransport(call_from_event_loop=True))\n",
    "    g = graph.traversal().withRemote(connection)\n",
    "    c = client.Client(endpoint, 'g')"
   ]
  },
  {
   "cell_type": "code",
   "execution_count": 34,
   "id": "ca39efd4",
   "metadata": {},
   "outputs": [],
   "source": [
    "def reset_graph():\n",
    "    url = 'https://{server}:{port}/system'.format(server=server,port=port)\n",
    "    reset_token = r.post(url,data={ \"action\" : \"initiateDatabaseReset\" }).json()['payload']['token']\n",
    "    r.post(url,data={ \"action\": \"performDatabaseReset\" , \"token\" : reset_token})"
   ]
  },
  {
   "cell_type": "code",
   "execution_count": 40,
   "id": "a9160f0e",
   "metadata": {},
   "outputs": [],
   "source": [
    "est_connection()"
   ]
  },
  {
   "cell_type": "code",
   "execution_count": 44,
   "id": "e9203726",
   "metadata": {},
   "outputs": [
    {
     "name": "stdout",
     "output_type": "stream",
     "text": [
      "./data/0_nodes.txt\n",
      "./data/1_edges_part_1.txt\n",
      "./data/2_edges_part_2.txt\n"
     ]
    }
   ],
   "source": [
    "# for file in glob.glob('./data/*.txt') \n",
    "for file in sorted( glob.glob('./data/*.txt')):\n",
    "    print(file)\n",
    "    with open(file, mode='r', encoding=\"utf-8\") as f:\n",
    "        content = f.read()\n",
    "        for line in content.splitlines():\n",
    "            c.submit(line)"
   ]
  },
  {
   "cell_type": "code",
   "execution_count": 45,
   "id": "d498af5d",
   "metadata": {},
   "outputs": [
    {
     "data": {
      "text/plain": [
       "[v[0], v[1], v[2], v[3], v[4], v[5], v[6], v[7], v[8], v[9]]"
      ]
     },
     "execution_count": 45,
     "metadata": {},
     "output_type": "execute_result"
    }
   ],
   "source": [
    "g.V().limit(100).toList()"
   ]
  },
  {
   "cell_type": "code",
   "execution_count": null,
   "id": "7d21c4b1",
   "metadata": {},
   "outputs": [],
   "source": []
  },
  {
   "cell_type": "code",
   "execution_count": null,
   "id": "205ff09f",
   "metadata": {},
   "outputs": [],
   "source": []
  }
 ],
 "metadata": {
  "kernelspec": {
   "display_name": "Python 3 (ipykernel)",
   "language": "python",
   "name": "python3"
  },
  "language_info": {
   "codemirror_mode": {
    "name": "ipython",
    "version": 3
   },
   "file_extension": ".py",
   "mimetype": "text/x-python",
   "name": "python",
   "nbconvert_exporter": "python",
   "pygments_lexer": "ipython3",
   "version": "3.7.10"
  }
 },
 "nbformat": 4,
 "nbformat_minor": 5
}
